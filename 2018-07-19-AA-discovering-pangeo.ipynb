{
 "cells": [
  {
   "cell_type": "markdown",
   "metadata": {},
   "source": [
    "# Discovering Pangeo\n",
    "\n",
    "The doc : http://pangeo-data.org/index.html\n",
    "The github page : https://github.com/pangeo-data\n",
    "\n",
    "Deployment : http://pangeo-data.org/deployments.html\n",
    "\n",
    "## Testing pangeo.pydata.org\n",
    "\n",
    "With my github account http://pangeo.pydata.org/user/auraoupa\n",
    "A set of examples are already available, testing sea-surface-height.ipynb\n",
    "The catalog of data available on the Google Cloud https://raw.githubusercontent.com/pangeo-data/pangeo/master/gce/catalog.yaml\n",
    "The thing to understand I guess is the part :\n",
    "\n",
    "`from dask.distributed import Client, progress`\n",
    "\n",
    "`from dask_kubernetes import KubeCluster`\n",
    "\n",
    "`cluster = KubeCluster(n_workers=20)`\n",
    "\n",
    "`cluster`\n",
    "\n",
    "`client = Client(cluster)`\n",
    "\n",
    "`client`\n"
   ]
  },
  {
   "cell_type": "code",
   "execution_count": null,
   "metadata": {},
   "outputs": [],
   "source": []
  }
 ],
 "metadata": {
  "kernelspec": {
   "display_name": "Python [Root]",
   "language": "python",
   "name": "Python [Root]"
  },
  "language_info": {
   "codemirror_mode": {
    "name": "ipython",
    "version": 2
   },
   "file_extension": ".py",
   "mimetype": "text/x-python",
   "name": "python",
   "nbconvert_exporter": "python",
   "pygments_lexer": "ipython2",
   "version": "2.7.15"
  }
 },
 "nbformat": 4,
 "nbformat_minor": 2
}
