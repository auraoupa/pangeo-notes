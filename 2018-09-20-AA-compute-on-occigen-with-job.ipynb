{
 "cells": [
  {
   "cell_type": "markdown",
   "metadata": {},
   "source": [
    "# Compute on occigen with job\n"
   ]
  },
  {
   "cell_type": "code",
   "execution_count": null,
   "metadata": {},
   "outputs": [],
   "source": [
    "from dask_jobqueue import SLURMCluster\n",
    "from dask.distributed import Client\n",
    "\n",
    "cluster = SLURMCluster(cores=24,name='dask_test',walltime='00:10:00',job_extra=['--constraint=HSW24','--exclusive','--nodes=1'],memory='10GB')\n",
    "print(cluster.job_script())\n",
    "\n",
    "\n",
    "cluster.scale(2)\n",
    "\n",
    "c =Client()\n",
    "\n",
    "c\n",
    "\n"
   ]
  },
  {
   "cell_type": "code",
   "execution_count": null,
   "metadata": {},
   "outputs": [],
   "source": [
    "import dask\n",
    "import xarray as xr\n",
    "\n",
    "%%time\n",
    "with dask.set_options(get=c.get):  \n",
    "    dsv=xr.open_mfdataset('/store/molines/NATL60/NATL60-CJM165-S/1h/201?/NATL60-CJM165_y201?m??d??.1h_gridV.nc', chunks={'x':1000, 'y':1000, 'time_counter':1}, autoclose=True, parallel=True, concat_dim='time_counter') "
   ]
  },
  {
   "cell_type": "code",
   "execution_count": null,
   "metadata": {},
   "outputs": [],
   "source": [
    "#test proc depeuplés\n",
    "\n",
    "from dask_jobqueue import SLURMCluster\n",
    "from dask.distributed import Client\n",
    "\n",
    "cluster = SLURMCluster(cores=12,name='dask_test',walltime='00:10:00',job_extra=['--constraint=HSW24','--exclusive','--nodes=1'],memory='10GB')\n",
    "print(cluster.job_script())\n",
    "\n",
    "\n",
    "cluster.scale(2)\n",
    "\n",
    "c =Client()\n",
    "\n",
    "import dask\n",
    "import xarray as xr\n",
    "with dask.set_options(get=c.get):  \n",
    "     dsv=xr.open_mfdataset('/store/molines/NATL60/NATL60-CJM165-S/1h/201?/NATL60-CJM165_y201?m??d??.1h_gridV.nc', autoclose=True, parallel=True, concat_dim='time_counter') \n",
    "#il faut enlever les chunks pour passer en zarr  \n",
    "\n",
    "dsv.to_zarr('/scratch/cnt0024/hmg2840/albert7a/test4-zarr-v1h')\n",
    "\n",
    "#pb memory per worker : worker exceeded 95% memory budget\n"
   ]
  },
  {
   "cell_type": "code",
   "execution_count": null,
   "metadata": {},
   "outputs": [],
   "source": [
    "#test petit dataset\n",
    "\n",
    "from dask_jobqueue import SLURMCluster\n",
    "from dask.distributed import Client\n",
    "\n",
    "cluster = SLURMCluster(cores=12,name='dask_test',walltime='00:10:00',job_extra=['--constraint=HSW24','--exclusive','--nodes=1'],memory='10GB')\n",
    "print(cluster.job_script())\n",
    "\n",
    "\n",
    "cluster.scale(2)\n",
    "\n",
    "c =Client()\n",
    "\n",
    "import dask\n",
    "import xarray as xr\n",
    "with dask.set_options(get=c.get):  \n",
    "     dsv=xr.open_mfdataset('/store/molines/NATL60/NATL60-CJM165-S/1h/2012/NATL60-CJM165_y2012m12d??.1h_gridV.nc', autoclose=True, parallel=True, concat_dim='time_counter') \n",
    "\n",
    "\n",
    "with dask.set_options(get=c.get):  \n",
    "     dsv.to_zarr('/scratch/cnt0024/hmg2840/albert7a/test5-zarr-v1h')\n",
    "\n",
    "#pb memory per worker : worker exceeded 95% memory budget\n"
   ]
  }
 ],
 "metadata": {
  "kernelspec": {
   "display_name": "Python [Root]",
   "language": "python",
   "name": "Python [Root]"
  },
  "language_info": {
   "codemirror_mode": {
    "name": "ipython",
    "version": 2
   },
   "file_extension": ".py",
   "mimetype": "text/x-python",
   "name": "python",
   "nbconvert_exporter": "python",
   "pygments_lexer": "ipython2",
   "version": "2.7.15"
  }
 },
 "nbformat": 4,
 "nbformat_minor": 2
}
