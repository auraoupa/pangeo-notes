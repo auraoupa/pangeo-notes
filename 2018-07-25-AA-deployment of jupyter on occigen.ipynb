{
 "cells": [
  {
   "cell_type": "markdown",
   "metadata": {},
   "source": [
    "# Deployment of Jupyter on occigen\n",
    "\n",
    "Following setup guide : http://pangeo-data.org/setup_guides/hpc.html\n",
    "\n",
    "- install conda => already done\n",
    "- create new environment : `conda create -n pangeo -c conda-forge python=3.6 dask distributed xarray jupyterlab mpi4py`\n",
    "- source activate pangeo\n",
    "- pip install --upgrade pip\n",
    "- pip install cython\n",
    "- pip install dask.jobqueue\n",
    "- in ipython terminal :\n",
    "  - from dask_jobqueue import + TAB montre les options\n",
    "  - from dask_jobqueue import SLURMCluster sur occigen\n",
    "  - cluster = SLURMCluster(cores=24,name='dask_test',walltime='00:10:00',job_extra=['--constraint=HSW24','--exclusive','--nodes=1'],memory='1024')\n",
    "  - cluster.job_header\n",
    "  - cluster.scale(2)\n",
    "  \n",
    "  \n"
   ]
  },
  {
   "cell_type": "markdown",
   "metadata": {},
   "source": [
    "SLURM :\n",
    "    --ntasks = -n\n",
    "    --nodes = -N\n",
    "    "
   ]
  }
 ],
 "metadata": {
  "kernelspec": {
   "display_name": "Python [Root]",
   "language": "python",
   "name": "Python [Root]"
  },
  "language_info": {
   "codemirror_mode": {
    "name": "ipython",
    "version": 2
   },
   "file_extension": ".py",
   "mimetype": "text/x-python",
   "name": "python",
   "nbconvert_exporter": "python",
   "pygments_lexer": "ipython2",
   "version": "2.7.15"
  }
 },
 "nbformat": 4,
 "nbformat_minor": 2
}
