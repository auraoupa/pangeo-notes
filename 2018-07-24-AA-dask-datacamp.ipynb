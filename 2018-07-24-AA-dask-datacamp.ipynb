{
 "cells": [
  {
   "cell_type": "markdown",
   "metadata": {},
   "source": [
    "https://www.datacamp.com/courses/parallel-computing-with-dask\n",
    "\n",
    "```import\tpsutil,\tos\n",
    "def\tmemory_footprint():\n",
    "\t'''Returns\tmemory\t(in\tMB)\tbeing\tused\tby\tPython\tprocess'''\n",
    "\tmem\t=\tpsutil.Process(os.getpid()).memory_info().rss\n",
    "\treturn\t(mem\t/\t1024\t**\t2)```\n",
    "    \n",
    "`numpyarray.nbytes()/(1024**2)`\n",
    "`pandadataframe.memory_usage(index=False)/(1024**2)`"
   ]
  },
  {
   "cell_type": "code",
   "execution_count": null,
   "metadata": {},
   "outputs": [],
   "source": []
  }
 ],
 "metadata": {
  "kernelspec": {
   "display_name": "Python [Root]",
   "language": "python",
   "name": "Python [Root]"
  },
  "language_info": {
   "codemirror_mode": {
    "name": "ipython",
    "version": 2
   },
   "file_extension": ".py",
   "mimetype": "text/x-python",
   "name": "python",
   "nbconvert_exporter": "python",
   "pygments_lexer": "ipython2",
   "version": "2.7.15"
  }
 },
 "nbformat": 4,
 "nbformat_minor": 2
}
