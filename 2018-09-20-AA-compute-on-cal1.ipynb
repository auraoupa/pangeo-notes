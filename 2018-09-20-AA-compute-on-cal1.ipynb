{
 "cells": [
  {
   "cell_type": "markdown",
   "metadata": {},
   "source": [
    "# Compute on cal1\n"
   ]
  },
  {
   "cell_type": "markdown",
   "metadata": {},
   "source": [
    "## open_mfdataset en parallel\n",
    "\n",
    "from https://github.com/pydata/xarray/pull/1983"
   ]
  },
  {
   "cell_type": "markdown",
   "metadata": {},
   "source": [
    "### Benchmark with a collection of 365 files containing NATL60 2d arrays, 1.2G per files"
   ]
  },
  {
   "cell_type": "markdown",
   "metadata": {},
   "source": [
    "   * no parallel, no autoclose :"
   ]
  },
  {
   "cell_type": "code",
   "execution_count": null,
   "metadata": {},
   "outputs": [],
   "source": [
    "In [10]: %%time\n",
    "    ...: with dask.set_options(get=dask.threaded.get):\n",
    "    ...:     ds=xr.open_mfdataset('/mnt/meom/MODEL_SET/NATL60/NATL60-CJM165-S/1h/*/NATL60-CJM165_y201*.1h_SSH.nc', con\n",
    "    ...: cat_dim='time_counter',chunks={'x': 1000, 'y':1000, 'time_counter': 1})\n",
    "    ...: \n",
    "---------------------------------------------------------------------------\n",
    "MemoryError                               Traceback (most recent call last)\n"
   ]
  },
  {
   "cell_type": "markdown",
   "metadata": {},
   "source": [
    "   * no parallel, with autoclose :"
   ]
  },
  {
   "cell_type": "code",
   "execution_count": null,
   "metadata": {},
   "outputs": [],
   "source": [
    "In [11]: %%time\n",
    "    ...: with dask.set_options(get=dask.threaded.get):\n",
    "    ...:     ds=xr.open_mfdataset('/mnt/meom/MODEL_SET/NATL60/NATL60-CJM165-S/1h/*/NATL60-CJM165_y201*.1h_SSH.nc', con\n",
    "    ...: cat_dim='time_counter',chunks={'x': 1000, 'y':1000, 'time_counter': 1}, autoclose=True)\n",
    "    ...: \n",
    "    ...: \n",
    "---------------------------------------------------------------------------\n",
    "MemoryError                               Traceback (most recent call last)\n"
   ]
  },
  {
   "cell_type": "markdown",
   "metadata": {},
   "source": [
    "   * in parallel, with dask.multiprocessing get :"
   ]
  },
  {
   "cell_type": "code",
   "execution_count": null,
   "metadata": {},
   "outputs": [],
   "source": [
    "In [8]: %%time\n",
    "   ...: with dask.set_options(get=dask.multiprocessing.get):\n",
    "   ...:     ds=xr.open_mfdataset('/mnt/meom/MODEL_SET/NATL60/NATL60-CJM165-S/1h/*/NATL60-CJM165_y201*.1h_SSH.nc',autoc\n",
    "   ...: lose=True, concat_dim='time_counter',chunks={'x': 1000, 'y':1000, 'time_counter': 1}, parallel=True)\n",
    "   ...: \n",
    "CPU times: user 3min 35s, sys: 1min 10s, total: 4min 45s\n",
    "Wall time: 5min 40s\n",
    "\n"
   ]
  },
  {
   "cell_type": "markdown",
   "metadata": {},
   "source": [
    "   * in parallel, with cluster get :"
   ]
  },
  {
   "cell_type": "code",
   "execution_count": null,
   "metadata": {},
   "outputs": [],
   "source": [
    "In [9]: %%time\n",
    "   ...: with dask.set_options(get=c.get):\n",
    "   ...:     ds=xr.open_mfdataset('/mnt/meom/MODEL_SET/NATL60/NATL60-CJM165-S/1h/*/NATL60-CJM165_y201*.1h_SSH.nc',autoc\n",
    "   ...: lose=True, concat_dim='time_counter',chunks={'x': 1000, 'y':1000, 'time_counter': 1}, parallel=True)\n",
    "   ...: \n",
    "CPU times: user 27.8 s, sys: 5.06 s, total: 32.8 s\n",
    "Wall time: 52.3 s\n"
   ]
  },
  {
   "cell_type": "markdown",
   "metadata": {},
   "source": [
    "### The code"
   ]
  },
  {
   "cell_type": "code",
   "execution_count": null,
   "metadata": {},
   "outputs": [],
   "source": [
    "import xarray as xr\n",
    "import dask\n",
    "import dask.threaded\n",
    "import dask.multiprocessing\n",
    "from dask.distributed import Client\n",
    "\n",
    "c = Client()\n",
    "\n",
    "c\n",
    "Out[7]: <Client: scheduler='tcp://127.0.0.1:46849' processes=10 cores=10>\n",
    "\n",
    "with dask.set_options(get=c.get):\n",
    "     ds=xr.open_mfdataset('/mnt/meom/MODEL_SET/NATL60/NATL60-CJM165-S/1h/*/NATL60-CJM165_y201*.1h_SSH.nc',autoclose=True, concat_dim='time_counter',chunks={'x': 1000, 'y':1000, 'time_counter': 1}, parallel=True)\n",
    "        \n"
   ]
  },
  {
   "cell_type": "markdown",
   "metadata": {},
   "source": [
    "## Test with zarr options"
   ]
  },
  {
   "cell_type": "code",
   "execution_count": null,
   "metadata": {},
   "outputs": [],
   "source": [
    "import zarr                                                                                                   \n",
    "compressor = zarr.Blosc(cname='zstd', clevel=3, shuffle=2)                                                    \n",
    "encoding = {vname: {'compressor': compressor} for vname in ds.variables}                                     \n",
    "\n",
    "with dask.set_options(get=dask.threaded.get):\n",
    "    ds.to_zarr(store='/mnt/meom/MODEL_SET/NATL60/NATL60-CJM165-S/1h/SSH/test_zarr', encoding=encoding)        \n",
    "\n"
   ]
  }
 ],
 "metadata": {
  "kernelspec": {
   "display_name": "Python [Root]",
   "language": "python",
   "name": "Python [Root]"
  },
  "language_info": {
   "codemirror_mode": {
    "name": "ipython",
    "version": 2
   },
   "file_extension": ".py",
   "mimetype": "text/x-python",
   "name": "python",
   "nbconvert_exporter": "python",
   "pygments_lexer": "ipython2",
   "version": "2.7.15"
  }
 },
 "nbformat": 4,
 "nbformat_minor": 2
}
